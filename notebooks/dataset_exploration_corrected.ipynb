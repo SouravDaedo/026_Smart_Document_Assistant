{
 "cells": [
  {
   "cell_type": "markdown",
   "metadata": {},
   "source": [
    "# Dataset Structure Exploration (Corrected Version)\n",
    "\n",
    "This notebook helps you investigate and understand the structure of different layout detection datasets with improved sample selection by index.\n",
    "\n",
    "**Key Improvements:**\n",
    "- Browse samples by index (1st, 5th, etc.) instead of random selection\n",
    "- Only shows samples that actually exist on disk\n",
    "- Interactive sample browsing\n",
    "- Better error handling\n",
    "- **FIXED:** Correct image path detection (PNG/ not PNG/train/)"
   ]
  },
  {
   "cell_type": "code",
   "execution_count": null,
   "metadata": {},
   "outputs": [],
   "source": [
    "import json\n",
    "import pandas as pd\n",
    "import matplotlib.pyplot as plt\n",
    "import seaborn as sns\n",
    "from pathlib import Path\n",
    "import numpy as np\n",
    "from PIL import Image, ImageDraw\n",
    "from collections import Counter\n",
    "import warnings\n",
    "warnings.filterwarnings('ignore')\n",
    "\n",
    "# Set up plotting\n",
    "plt.style.use('default')\n",
    "sns.set_palette(\"husl\")\n",
    "%matplotlib inline\n",
    "\n",
    "print(\"📊 Dataset Explorer initialized!\")"
   ]
  },
  {
   "cell_type": "markdown",
   "metadata": {},
   "source": [
    "## 1. Load Dataset and Find Available Images"
   ]
  },
  {
   "cell_type": "code",
   "execution_count": null,
   "metadata": {},
   "outputs": [],
   "source": [
    "def load_dataset_with_available_images():\n",
    "    \"\"\"Load DocLayNet dataset and find which images are actually available on disk.\"\"\"\n",
    "    \n",
    "    # Set up paths\n",
    "    data_dir = Path(\"../data\")\n",
    "    doclaynet_dir = data_dir / \"doclaynet\"\n",
    "    train_annotations_file = doclaynet_dir / \"COCO\" / \"train.json\"\n",
    "    \n",
    "    if not train_annotations_file.exists():\n",
    "        print(\"DocLayNet data not found. Run: python scripts/download_training_data.py --dataset doclaynet\")\n",
    "        return None, []\n",
    "    \n",
    "    # Load annotations\n",
    "    print(\"📖 Loading DocLayNet annotations...\")\n",
    "    with open(train_annotations_file, 'r') as f:\n",
    "        doclaynet_data = json.load(f)\n",
    "    \n",
    "    # Find available images - FIXED: Use PNG/ not PNG/train/\n",
    "    image_dir = doclaynet_dir / \"PNG\"\n",
    "    available_images = []\n",
    "    \n",
    "    if image_dir.exists():\n",
    "        print(f\"🔍 Checking which images are available on disk...\")\n",
    "        for img in doclaynet_data['images']:\n",
    "            if (image_dir / img['file_name']).exists():\n",
    "                available_images.append(img)\n",
    "    \n",
    "    print(f\"✅ Loaded {len(doclaynet_data['images'])} total images from annotations\")\n",
    "    print(f\"📁 Found {len(available_images)} available images on disk\")\n",
    "    \n",
    "    return doclaynet_data, available_images\n",
    "\n",
    "# Load data\n",
    "doclaynet_data, available_images = load_dataset_with_available_images()"
   ]
  },
  {
   "cell_type": "markdown",
   "metadata": {},
   "source": [
    "## 2. Dataset Overview"
   ]
  },
  {
   "cell_type": "code",
   "execution_count": null,
   "metadata": {},
   "outputs": [],
   "source": [
    "if doclaynet_data:\n",
    "    print(\" DocLayNet Dataset Overview:\")\n",
    "    print(f\"   • Total images in annotations: {len(doclaynet_data['images'])}\")\n",
    "    print(f\"   • Available images on disk: {len(available_images)}\")\n",
    "    print(f\"   • Total annotations: {len(doclaynet_data['annotations'])}\")\n",
    "    print(f\"   • Categories: {len(doclaynet_data['categories'])}\")\n",
    "    \n",
    "    print(\"\\n🏷️  Available Categories:\")\n",
    "    for cat in doclaynet_data['categories']:\n",
    "        print(f\"   • {cat['name']} (ID: {cat['id']})\")\n",
    "else:\n",
    "    print(\"❌ No data loaded\")"
   ]
  },
  {
   "cell_type": "markdown",
   "metadata": {},
   "source": [
    "## 3. Category Distribution Analysis"
   ]
  },
  {
   "cell_type": "code",
   "execution_count": null,
   "metadata": {},
   "outputs": [],
   "source": [
    "if doclaynet_data:\n",
    "    # Count annotations per category\n",
    "    category_counts = Counter([ann['category_id'] for ann in doclaynet_data['annotations']])\n",
    "    category_names = {cat['id']: cat['name'] for cat in doclaynet_data['categories']}\n",
    "    \n",
    "    # Create DataFrame for better display\n",
    "    stats_data = []\n",
    "    for cat_id, count in category_counts.items():\n",
    "        stats_data.append({\n",
    "            'Category': category_names[cat_id],\n",
    "            'Count': count,\n",
    "            'Percentage': f\"{count/len(doclaynet_data['annotations'])*100:.1f}%\"\n",
    "        })\n",
    "    \n",
    "    df_stats = pd.DataFrame(stats_data).sort_values('Count', ascending=False)\n",
    "    print(\"📊 Category Distribution:\")\n",
    "    display(df_stats)\n",
    "    \n",
    "    # Plot distribution\n",
    "    plt.figure(figsize=(12, 6))\n",
    "    plt.bar(df_stats['Category'], df_stats['Count'])\n",
    "    plt.title('DocLayNet Category Distribution')\n",
    "    plt.xlabel('Category')\n",
    "    plt.ylabel('Number of Annotations')\n",
    "    plt.xticks(rotation=45, ha='right')\n",
    "    plt.tight_layout()\n",
    "    plt.show()"
   ]
  },
  {
   "cell_type": "markdown",
   "metadata": {},
   "source": [
    "## 4. Browse Samples by Index"
   ]
  },
  {
   "cell_type": "code",
   "execution_count": null,
   "metadata": {},
   "outputs": [],
   "source": [
    "def show_sample_info(sample_index):\n",
    "    \"\"\"Show information about a specific sample by index.\"\"\"\n",
    "    \n",
    "    if not available_images:\n",
    "        print(\"❌ No images available for visualization\")\n",
    "        return\n",
    "    \n",
    "    if sample_index >= len(available_images):\n",
    "        print(f\"❌ Index {sample_index} out of range. Available: 0-{len(available_images)-1}\")\n",
    "        return\n",
    "    \n",
    "    # Get image info\n",
    "    image_info = available_images[sample_index]\n",
    "    image_id = image_info['id']\n",
    "    \n",
    "    # Get annotations for this image\n",
    "    annotations = [ann for ann in doclaynet_data['annotations'] if ann['image_id'] == image_id]\n",
    "    \n",
    "    print(f\"🖼️  Sample #{sample_index+1}: {image_info['file_name']}\")\n",
    "    print(f\"📏 Dimensions: {image_info['width']}x{image_info['height']}\")\n",
    "    print(f\"📊 Annotations: {len(annotations)}\")\n",
    "    \n",
    "    # Show categories in this image\n",
    "    category_names = {cat['id']: cat['name'] for cat in doclaynet_data['categories']}\n",
    "    image_categories = [category_names[ann['category_id']] for ann in annotations]\n",
    "    category_counts = Counter(image_categories)\n",
    "    \n",
    "    print(\"📋 Categories in this image:\")\n",
    "    for cat, count in category_counts.items():\n",
    "        print(f\"   • {cat}: {count} annotations\")\n",
    "    \n",
    "    return image_info, annotations\n",
    "\n",
    "# Show first few samples\n",
    "print(\"🔍 First 5 available samples:\")\n",
    "for i in range(min(5, len(available_images))):\n",
    "    image_info = available_images[i]\n",
    "    image_id = image_info['id']\n",
    "    annotations = [ann for ann in doclaynet_data['annotations'] if ann['image_id'] == image_id]\n",
    "    \n",
    "    category_names = {cat['id']: cat['name'] for cat in doclaynet_data['categories']}\n",
    "    image_categories = list(set([category_names[ann['category_id']] for ann in annotations]))\n",
    "    \n",
    "    print(f\"  {i+1:2d}. {image_info['file_name'][:50]:<50} | {len(annotations):2d} annotations | {', '.join(image_categories[:3])}\")"
   ]
  },
  {
   "cell_type": "markdown",
   "metadata": {},
   "source": [
    "## 5. Visualize Specific Sample"
   ]
  },
  {
   "cell_type": "code",
   "execution_count": null,
   "metadata": {},
   "outputs": [],
   "source": [
    "def visualize_sample(sample_index):\n",
    "    \"\"\"Visualize a sample with bounding boxes and labels.\"\"\"\n",
    "    \n",
    "    # Get sample info\n",
    "    result = show_sample_info(sample_index)\n",
    "    if result is None:\n",
    "        return\n",
    "    \n",
    "    image_info, annotations = result\n",
    "    \n",
    "    # Load and visualize image - FIXED: Use PNG/ not PNG/train/\n",
    "    data_dir = Path(\"../data\")\n",
    "    doclaynet_dir = data_dir / \"doclaynet\"\n",
    "    image_dir = doclaynet_dir / \"PNG\"\n",
    "    image_path = image_dir / image_info['file_name']\n",
    "    \n",
    "    # Load image\n",
    "    image = Image.open(image_path).convert('RGB')\n",
    "    draw = ImageDraw.Draw(image)\n",
    "    \n",
    "    # Category colors\n",
    "    categories = doclaynet_data['categories']\n",
    "    colors = plt.cm.Set3(np.linspace(0, 1, len(categories)))\n",
    "    color_map = {cat['id']: tuple(int(c*255) for c in colors[i][:3]) for i, cat in enumerate(categories)}\n",
    "    \n",
    "    # Draw bounding boxes\n",
    "    for ann in annotations:\n",
    "        x, y, w, h = ann['bbox']\n",
    "        category_id = ann['category_id']\n",
    "        color = color_map.get(category_id, (255, 0, 0))\n",
    "        \n",
    "        # Draw rectangle\n",
    "        draw.rectangle([x, y, x+w, y+h], outline=color, width=3)\n",
    "        \n",
    "        # Draw category label\n",
    "        category_name = next((cat['name'] for cat in categories if cat['id'] == category_id), 'Unknown')\n",
    "        draw.text((x, max(0, y-20)), category_name, fill=color)\n",
    "    \n",
    "    # Display\n",
    "    plt.figure(figsize=(15, 10))\n",
    "    plt.imshow(image)\n",
    "    plt.axis('off')\n",
    "    plt.title(f\"Sample #{sample_index+1}: {image_info['file_name']} ({image.size[0]}x{image.size[1]})\")\n",
    "    plt.tight_layout()\n",
    "    plt.show()\n",
    "\n",
    "# Visualize first sample\n",
    "if available_images:\n",
    "    print(\"🎨 Visualizing first available sample:\")\n",
    "    visualize_sample(0)\n",
    "else:\n",
    "    print(\"❌ No images available for visualization\")"
   ]
  },
  {
   "cell_type": "markdown",
   "metadata": {},
   "source": [
    "## 6. Interactive Sample Browser"
   ]
  },
  {
   "cell_type": "code",
   "execution_count": null,
   "metadata": {},
   "outputs": [],
   "source": [
    "# Change this index to browse different samples\n",
    "SAMPLE_INDEX = 1  # Change this to view different samples (0-based)\n",
    "\n",
    "if available_images:\n",
    "    print(f\"🔍 Browsing sample at index {SAMPLE_INDEX}:\")\n",
    "    visualize_sample(SAMPLE_INDEX)\n",
    "else:\n",
    "    print(\"❌ No images available\")"
   ]
  },
  {
   "cell_type": "markdown",
   "metadata": {},
   "source": [
    "## 7. Find Samples with Specific Categories"
   ]
  },
  {
   "cell_type": "code",
   "execution_count": null,
   "metadata": {},
   "outputs": [],
   "source": [
    "def find_samples_with_category(category_name, limit=10):\n",
    "    \"\"\"Find samples containing specific category.\"\"\"\n",
    "    \n",
    "    if not doclaynet_data:\n",
    "        return\n",
    "    \n",
    "    # Find category ID\n",
    "    category_id = None\n",
    "    for cat in doclaynet_data['categories']:\n",
    "        if cat['name'].lower() == category_name.lower():\n",
    "            category_id = cat['id']\n",
    "            break\n",
    "    \n",
    "    if category_id is None:\n",
    "        print(f\"❌ Category '{category_name}' not found\")\n",
    "        print(\"Available categories:\", [cat['name'] for cat in doclaynet_data['categories']])\n",
    "        return\n",
    "    \n",
    "    # Find images with this category\n",
    "    matching_images = []\n",
    "    for img in available_images:\n",
    "        annotations = [ann for ann in doclaynet_data['annotations'] \n",
    "                     if ann['image_id'] == img['id'] and ann['category_id'] == category_id]\n",
    "        if annotations:\n",
    "            matching_images.append((img, len(annotations)))\n",
    "    \n",
    "    print(f\"🔍 Found {len(matching_images)} images with '{category_name}' category:\")\n",
    "    \n",
    "    for i, (img, count) in enumerate(matching_images[:limit]):\n",
    "        img_index = available_images.index(img)\n",
    "        print(f\"  {img_index+1:3d}. {img['file_name'][:50]:<50} | {count} {category_name} annotations\")\n",
    "    \n",
    "    return matching_images\n",
    "\n",
    "# Example: Find samples with tables\n",
    "table_samples = find_samples_with_category(\"Table\", limit=5)\n",
    "\n",
    "# Visualize first table sample if found\n",
    "if table_samples:\n",
    "    first_table_img, _ = table_samples[0]\n",
    "    table_index = available_images.index(first_table_img)\n",
    "    print(f\"\\n🎨 Visualizing first table sample (index {table_index}):\")\n",
    "    visualize_sample(table_index)"
   ]
  },
  {
   "cell_type": "markdown",
   "metadata": {},
   "source": [
    "## 8. Browse Multiple Samples"
   ]
  },
  {
   "cell_type": "code",
   "execution_count": null,
   "metadata": {},
   "outputs": [],
   "source": [
    "def browse_multiple_samples(start_index=0, count=3):\n",
    "    \"\"\"Browse multiple samples starting from index.\"\"\"\n",
    "    \n",
    "    if not available_images:\n",
    "        print(\"❌ No images available\")\n",
    "        return\n",
    "    \n",
    "    end_index = min(start_index + count, len(available_images))\n",
    "    print(f\"🔍 Browsing samples {start_index+1} to {end_index}:\")\n",
    "    \n",
    "    for i in range(start_index, end_index):\n",
    "        print(f\"\\n--- Sample {i+1} ---\")\n",
    "        visualize_sample(i)\n",
    "\n",
    "# Browse samples 2-4\n",
    "browse_multiple_samples(start_index=1, count=3)"
   ]
  }
 ],
 "metadata": {
  "kernelspec": {
   "display_name": "Python 3",
   "language": "python",
   "name": "python3"
  },
  "language_info": {
   "codemirror_mode": {
    "name": "ipython",
    "version": 3
   },
   "file_extension": ".py",
   "mimetype": "text/x-python",
   "name": "python",
   "nbconvert_exporter": "python",
   "pygments_lexer": "ipython3",
   "version": "3.8.5"
  }
 },
 "nbformat": 4,
 "nbformat_minor": 4
}
